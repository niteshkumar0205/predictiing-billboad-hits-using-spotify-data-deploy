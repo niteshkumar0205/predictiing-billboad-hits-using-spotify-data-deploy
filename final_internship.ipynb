{
 "cells": [
  {
   "cell_type": "code",
   "execution_count": 1,
   "metadata": {},
   "outputs": [],
   "source": [
    "import pandas as pd\n",
    "import numpy as np\n",
    "import matplotlib.pyplot as plt\n",
    "import seaborn as sns\n",
    "import scipy.stats as stats"
   ]
  },
  {
   "cell_type": "code",
   "execution_count": 2,
   "metadata": {},
   "outputs": [
    {
     "data": {
      "text/html": [
       "<div>\n",
       "<style scoped>\n",
       "    .dataframe tbody tr th:only-of-type {\n",
       "        vertical-align: middle;\n",
       "    }\n",
       "\n",
       "    .dataframe tbody tr th {\n",
       "        vertical-align: top;\n",
       "    }\n",
       "\n",
       "    .dataframe thead th {\n",
       "        text-align: right;\n",
       "    }\n",
       "</style>\n",
       "<table border=\"1\" class=\"dataframe\">\n",
       "  <thead>\n",
       "    <tr style=\"text-align: right;\">\n",
       "      <th></th>\n",
       "      <th>Artist</th>\n",
       "      <th>Track</th>\n",
       "      <th>SpotifyID</th>\n",
       "      <th>danceability</th>\n",
       "      <th>energy</th>\n",
       "      <th>loudness</th>\n",
       "      <th>speechiness</th>\n",
       "      <th>acousticness</th>\n",
       "      <th>instrumentalness</th>\n",
       "      <th>liveness</th>\n",
       "      <th>valence</th>\n",
       "      <th>tempo</th>\n",
       "      <th>Key_mode_Ratio</th>\n",
       "      <th>duration_ms</th>\n",
       "      <th>billboard_hit</th>\n",
       "    </tr>\n",
       "  </thead>\n",
       "  <tbody>\n",
       "    <tr>\n",
       "      <th>0</th>\n",
       "      <td>Sonora Santanera</td>\n",
       "      <td>Amor De Cabaret</td>\n",
       "      <td>5JeyXbf7CrVQ8DqwFikN0P</td>\n",
       "      <td>0.699</td>\n",
       "      <td>0.519</td>\n",
       "      <td>-6.422</td>\n",
       "      <td>0.0290</td>\n",
       "      <td>0.689000</td>\n",
       "      <td>0.000471</td>\n",
       "      <td>0.9350</td>\n",
       "      <td>0.676</td>\n",
       "      <td>102.463</td>\n",
       "      <td>8.0</td>\n",
       "      <td>183027</td>\n",
       "      <td>0</td>\n",
       "    </tr>\n",
       "    <tr>\n",
       "      <th>1</th>\n",
       "      <td>JennyAnyKind</td>\n",
       "      <td>Young Boy Blues</td>\n",
       "      <td>5uN6oY2NGLC6GKoywHKkZA</td>\n",
       "      <td>0.458</td>\n",
       "      <td>0.570</td>\n",
       "      <td>-9.159</td>\n",
       "      <td>0.0495</td>\n",
       "      <td>0.000055</td>\n",
       "      <td>0.000768</td>\n",
       "      <td>0.0988</td>\n",
       "      <td>0.203</td>\n",
       "      <td>146.609</td>\n",
       "      <td>0.0</td>\n",
       "      <td>218907</td>\n",
       "      <td>0</td>\n",
       "    </tr>\n",
       "    <tr>\n",
       "      <th>2</th>\n",
       "      <td>Casual</td>\n",
       "      <td>I Didn't Mean To</td>\n",
       "      <td>01TR6aAKrA2cI3Z0gnCOsu</td>\n",
       "      <td>0.751</td>\n",
       "      <td>0.549</td>\n",
       "      <td>-10.508</td>\n",
       "      <td>0.4290</td>\n",
       "      <td>0.063000</td>\n",
       "      <td>0.000025</td>\n",
       "      <td>0.1060</td>\n",
       "      <td>0.553</td>\n",
       "      <td>92.224</td>\n",
       "      <td>0.0</td>\n",
       "      <td>218933</td>\n",
       "      <td>0</td>\n",
       "    </tr>\n",
       "    <tr>\n",
       "      <th>3</th>\n",
       "      <td>Jeff And Sheri Easter</td>\n",
       "      <td>The Moon And I (Ordinary Day Album Version)</td>\n",
       "      <td>7ERvcsBBYzSHqQQqlI9xAN</td>\n",
       "      <td>0.456</td>\n",
       "      <td>0.472</td>\n",
       "      <td>-8.328</td>\n",
       "      <td>0.0325</td>\n",
       "      <td>0.706000</td>\n",
       "      <td>0.000005</td>\n",
       "      <td>0.0833</td>\n",
       "      <td>0.286</td>\n",
       "      <td>147.565</td>\n",
       "      <td>5.0</td>\n",
       "      <td>267640</td>\n",
       "      <td>0</td>\n",
       "    </tr>\n",
       "    <tr>\n",
       "      <th>4</th>\n",
       "      <td>Tweeterfriendly Music</td>\n",
       "      <td>Drop of Rain</td>\n",
       "      <td>6dfppQDZQ4x3fCs6N89kV3</td>\n",
       "      <td>0.498</td>\n",
       "      <td>0.300</td>\n",
       "      <td>-10.716</td>\n",
       "      <td>0.0352</td>\n",
       "      <td>0.553000</td>\n",
       "      <td>0.000116</td>\n",
       "      <td>0.0963</td>\n",
       "      <td>0.185</td>\n",
       "      <td>100.315</td>\n",
       "      <td>7.0</td>\n",
       "      <td>189560</td>\n",
       "      <td>0</td>\n",
       "    </tr>\n",
       "  </tbody>\n",
       "</table>\n",
       "</div>"
      ],
      "text/plain": [
       "                  Artist                                        Track  \\\n",
       "0       Sonora Santanera                              Amor De Cabaret   \n",
       "1           JennyAnyKind                              Young Boy Blues   \n",
       "2                 Casual                             I Didn't Mean To   \n",
       "3  Jeff And Sheri Easter  The Moon And I (Ordinary Day Album Version)   \n",
       "4  Tweeterfriendly Music                                 Drop of Rain   \n",
       "\n",
       "                SpotifyID  danceability  energy  loudness  speechiness  \\\n",
       "0  5JeyXbf7CrVQ8DqwFikN0P         0.699   0.519    -6.422       0.0290   \n",
       "1  5uN6oY2NGLC6GKoywHKkZA         0.458   0.570    -9.159       0.0495   \n",
       "2  01TR6aAKrA2cI3Z0gnCOsu         0.751   0.549   -10.508       0.4290   \n",
       "3  7ERvcsBBYzSHqQQqlI9xAN         0.456   0.472    -8.328       0.0325   \n",
       "4  6dfppQDZQ4x3fCs6N89kV3         0.498   0.300   -10.716       0.0352   \n",
       "\n",
       "   acousticness  instrumentalness  liveness  valence    tempo  Key_mode_Ratio  \\\n",
       "0      0.689000          0.000471    0.9350    0.676  102.463             8.0   \n",
       "1      0.000055          0.000768    0.0988    0.203  146.609             0.0   \n",
       "2      0.063000          0.000025    0.1060    0.553   92.224             0.0   \n",
       "3      0.706000          0.000005    0.0833    0.286  147.565             5.0   \n",
       "4      0.553000          0.000116    0.0963    0.185  100.315             7.0   \n",
       "\n",
       "   duration_ms  billboard_hit  \n",
       "0       183027              0  \n",
       "1       218907              0  \n",
       "2       218933              0  \n",
       "3       267640              0  \n",
       "4       189560              0  "
      ]
     },
     "execution_count": 2,
     "metadata": {},
     "output_type": "execute_result"
    }
   ],
   "source": [
    "data = pd.read_csv(\"final_data1.csv\")\n",
    "data.head(5)"
   ]
  },
  {
   "cell_type": "code",
   "execution_count": 3,
   "metadata": {},
   "outputs": [
    {
     "data": {
      "text/html": [
       "<div>\n",
       "<style scoped>\n",
       "    .dataframe tbody tr th:only-of-type {\n",
       "        vertical-align: middle;\n",
       "    }\n",
       "\n",
       "    .dataframe tbody tr th {\n",
       "        vertical-align: top;\n",
       "    }\n",
       "\n",
       "    .dataframe thead th {\n",
       "        text-align: right;\n",
       "    }\n",
       "</style>\n",
       "<table border=\"1\" class=\"dataframe\">\n",
       "  <thead>\n",
       "    <tr style=\"text-align: right;\">\n",
       "      <th></th>\n",
       "      <th>danceability</th>\n",
       "      <th>energy</th>\n",
       "      <th>loudness</th>\n",
       "      <th>speechiness</th>\n",
       "      <th>acousticness</th>\n",
       "      <th>instrumentalness</th>\n",
       "      <th>liveness</th>\n",
       "      <th>valence</th>\n",
       "      <th>tempo</th>\n",
       "      <th>Key_mode_Ratio</th>\n",
       "      <th>duration_ms</th>\n",
       "      <th>billboard_hit</th>\n",
       "    </tr>\n",
       "  </thead>\n",
       "  <tbody>\n",
       "    <tr>\n",
       "      <th>count</th>\n",
       "      <td>14637.000000</td>\n",
       "      <td>14637.000000</td>\n",
       "      <td>14637.000000</td>\n",
       "      <td>14637.000000</td>\n",
       "      <td>14637.000000</td>\n",
       "      <td>14637.000000</td>\n",
       "      <td>14637.000000</td>\n",
       "      <td>14637.000000</td>\n",
       "      <td>14637.000000</td>\n",
       "      <td>14637.000000</td>\n",
       "      <td>1.463700e+04</td>\n",
       "      <td>14637.000000</td>\n",
       "    </tr>\n",
       "    <tr>\n",
       "      <th>mean</th>\n",
       "      <td>0.600834</td>\n",
       "      <td>0.650782</td>\n",
       "      <td>-7.782832</td>\n",
       "      <td>0.097318</td>\n",
       "      <td>0.232584</td>\n",
       "      <td>0.085688</td>\n",
       "      <td>0.198051</td>\n",
       "      <td>0.525100</td>\n",
       "      <td>120.638107</td>\n",
       "      <td>3.305049</td>\n",
       "      <td>2.406734e+05</td>\n",
       "      <td>0.627041</td>\n",
       "    </tr>\n",
       "    <tr>\n",
       "      <th>std</th>\n",
       "      <td>0.167885</td>\n",
       "      <td>0.216254</td>\n",
       "      <td>4.083115</td>\n",
       "      <td>0.115077</td>\n",
       "      <td>0.282137</td>\n",
       "      <td>0.235613</td>\n",
       "      <td>0.170423</td>\n",
       "      <td>0.245209</td>\n",
       "      <td>29.838461</td>\n",
       "      <td>3.690942</td>\n",
       "      <td>9.078982e+04</td>\n",
       "      <td>0.483608</td>\n",
       "    </tr>\n",
       "    <tr>\n",
       "      <th>min</th>\n",
       "      <td>0.000000</td>\n",
       "      <td>0.000020</td>\n",
       "      <td>-54.909000</td>\n",
       "      <td>0.000000</td>\n",
       "      <td>0.000001</td>\n",
       "      <td>0.000000</td>\n",
       "      <td>0.000000</td>\n",
       "      <td>0.000000</td>\n",
       "      <td>0.000000</td>\n",
       "      <td>0.000000</td>\n",
       "      <td>6.477000e+03</td>\n",
       "      <td>0.000000</td>\n",
       "    </tr>\n",
       "    <tr>\n",
       "      <th>25%</th>\n",
       "      <td>0.497000</td>\n",
       "      <td>0.509000</td>\n",
       "      <td>-9.464000</td>\n",
       "      <td>0.034600</td>\n",
       "      <td>0.017600</td>\n",
       "      <td>0.000000</td>\n",
       "      <td>0.092900</td>\n",
       "      <td>0.330000</td>\n",
       "      <td>97.002000</td>\n",
       "      <td>0.000000</td>\n",
       "      <td>2.004930e+05</td>\n",
       "      <td>0.000000</td>\n",
       "    </tr>\n",
       "    <tr>\n",
       "      <th>50%</th>\n",
       "      <td>0.615000</td>\n",
       "      <td>0.684000</td>\n",
       "      <td>-6.818000</td>\n",
       "      <td>0.049100</td>\n",
       "      <td>0.099300</td>\n",
       "      <td>0.000005</td>\n",
       "      <td>0.129000</td>\n",
       "      <td>0.531000</td>\n",
       "      <td>119.838000</td>\n",
       "      <td>2.000000</td>\n",
       "      <td>2.317730e+05</td>\n",
       "      <td>1.000000</td>\n",
       "    </tr>\n",
       "    <tr>\n",
       "      <th>75%</th>\n",
       "      <td>0.722000</td>\n",
       "      <td>0.822000</td>\n",
       "      <td>-5.088000</td>\n",
       "      <td>0.105000</td>\n",
       "      <td>0.361000</td>\n",
       "      <td>0.001710</td>\n",
       "      <td>0.258000</td>\n",
       "      <td>0.724000</td>\n",
       "      <td>139.821000</td>\n",
       "      <td>7.000000</td>\n",
       "      <td>2.689330e+05</td>\n",
       "      <td>1.000000</td>\n",
       "    </tr>\n",
       "    <tr>\n",
       "      <th>max</th>\n",
       "      <td>0.986000</td>\n",
       "      <td>1.000000</td>\n",
       "      <td>0.316000</td>\n",
       "      <td>0.956000</td>\n",
       "      <td>0.996000</td>\n",
       "      <td>0.991000</td>\n",
       "      <td>0.997000</td>\n",
       "      <td>0.992000</td>\n",
       "      <td>245.941000</td>\n",
       "      <td>11.000000</td>\n",
       "      <td>4.802553e+06</td>\n",
       "      <td>1.000000</td>\n",
       "    </tr>\n",
       "  </tbody>\n",
       "</table>\n",
       "</div>"
      ],
      "text/plain": [
       "       danceability        energy      loudness   speechiness  acousticness  \\\n",
       "count  14637.000000  14637.000000  14637.000000  14637.000000  14637.000000   \n",
       "mean       0.600834      0.650782     -7.782832      0.097318      0.232584   \n",
       "std        0.167885      0.216254      4.083115      0.115077      0.282137   \n",
       "min        0.000000      0.000020    -54.909000      0.000000      0.000001   \n",
       "25%        0.497000      0.509000     -9.464000      0.034600      0.017600   \n",
       "50%        0.615000      0.684000     -6.818000      0.049100      0.099300   \n",
       "75%        0.722000      0.822000     -5.088000      0.105000      0.361000   \n",
       "max        0.986000      1.000000      0.316000      0.956000      0.996000   \n",
       "\n",
       "       instrumentalness      liveness       valence         tempo  \\\n",
       "count      14637.000000  14637.000000  14637.000000  14637.000000   \n",
       "mean           0.085688      0.198051      0.525100    120.638107   \n",
       "std            0.235613      0.170423      0.245209     29.838461   \n",
       "min            0.000000      0.000000      0.000000      0.000000   \n",
       "25%            0.000000      0.092900      0.330000     97.002000   \n",
       "50%            0.000005      0.129000      0.531000    119.838000   \n",
       "75%            0.001710      0.258000      0.724000    139.821000   \n",
       "max            0.991000      0.997000      0.992000    245.941000   \n",
       "\n",
       "       Key_mode_Ratio   duration_ms  billboard_hit  \n",
       "count    14637.000000  1.463700e+04   14637.000000  \n",
       "mean         3.305049  2.406734e+05       0.627041  \n",
       "std          3.690942  9.078982e+04       0.483608  \n",
       "min          0.000000  6.477000e+03       0.000000  \n",
       "25%          0.000000  2.004930e+05       0.000000  \n",
       "50%          2.000000  2.317730e+05       1.000000  \n",
       "75%          7.000000  2.689330e+05       1.000000  \n",
       "max         11.000000  4.802553e+06       1.000000  "
      ]
     },
     "execution_count": 3,
     "metadata": {},
     "output_type": "execute_result"
    }
   ],
   "source": [
    "data.describe()"
   ]
  },
  {
   "cell_type": "code",
   "execution_count": 4,
   "metadata": {},
   "outputs": [
    {
     "name": "stdout",
     "output_type": "stream",
     "text": [
      "<class 'pandas.core.frame.DataFrame'>\n",
      "RangeIndex: 14637 entries, 0 to 14636\n",
      "Data columns (total 15 columns):\n",
      " #   Column            Non-Null Count  Dtype  \n",
      "---  ------            --------------  -----  \n",
      " 0   Artist            14637 non-null  object \n",
      " 1   Track             14637 non-null  object \n",
      " 2   SpotifyID         14637 non-null  object \n",
      " 3   danceability      14637 non-null  float64\n",
      " 4   energy            14637 non-null  float64\n",
      " 5   loudness          14637 non-null  float64\n",
      " 6   speechiness       14637 non-null  float64\n",
      " 7   acousticness      14637 non-null  float64\n",
      " 8   instrumentalness  14637 non-null  float64\n",
      " 9   liveness          14637 non-null  float64\n",
      " 10  valence           14637 non-null  float64\n",
      " 11  tempo             14637 non-null  float64\n",
      " 12  Key_mode_Ratio    14637 non-null  float64\n",
      " 13  duration_ms       14637 non-null  int64  \n",
      " 14  billboard_hit     14637 non-null  int64  \n",
      "dtypes: float64(10), int64(2), object(3)\n",
      "memory usage: 1.7+ MB\n"
     ]
    }
   ],
   "source": [
    "data.info()"
   ]
  },
  {
   "cell_type": "code",
   "execution_count": 5,
   "metadata": {},
   "outputs": [
    {
     "name": "stderr",
     "output_type": "stream",
     "text": [
      "C:\\Users\\NITESHKUMAR G\\anaconda3\\lib\\site-packages\\seaborn\\_decorators.py:36: FutureWarning: Pass the following variable as a keyword arg: x. From version 0.12, the only valid positional argument will be `data`, and passing other arguments without an explicit keyword will result in an error or misinterpretation.\n",
      "  warnings.warn(\n"
     ]
    },
    {
     "data": {
      "text/plain": [
       "<AxesSubplot:xlabel='billboard_hit', ylabel='count'>"
      ]
     },
     "execution_count": 5,
     "metadata": {},
     "output_type": "execute_result"
    },
    {
     "data": {
      "image/png": "[encoded data removed]",
      "text/plain": [
       "<Figure size 432x288 with 1 Axes>"
      ]
     },
     "metadata": {
      "needs_background": "light"
     },
     "output_type": "display_data"
    }
   ],
   "source": [
    "sns.countplot(data['billboard_hit'], label = \"Count\")"
   ]
  },
  {
   "cell_type": "code",
   "execution_count": 6,
   "metadata": {},
   "outputs": [],
   "source": [
    "y = data['billboard_hit']\n",
    "x = data.drop(['billboard_hit','Track','Artist','SpotifyID'],axis=1)"
   ]
  },
  {
   "cell_type": "code",
   "execution_count": 7,
   "metadata": {},
   "outputs": [
    {
     "data": {
      "text/html": [
       "<div>\n",
       "<style scoped>\n",
       "    .dataframe tbody tr th:only-of-type {\n",
       "        vertical-align: middle;\n",
       "    }\n",
       "\n",
       "    .dataframe tbody tr th {\n",
       "        vertical-align: top;\n",
       "    }\n",
       "\n",
       "    .dataframe thead th {\n",
       "        text-align: right;\n",
       "    }\n",
       "</style>\n",
       "<table border=\"1\" class=\"dataframe\">\n",
       "  <thead>\n",
       "    <tr style=\"text-align: right;\">\n",
       "      <th></th>\n",
       "      <th>danceability</th>\n",
       "      <th>energy</th>\n",
       "      <th>loudness</th>\n",
       "      <th>speechiness</th>\n",
       "      <th>acousticness</th>\n",
       "      <th>instrumentalness</th>\n",
       "      <th>liveness</th>\n",
       "      <th>valence</th>\n",
       "      <th>tempo</th>\n",
       "      <th>Key_mode_Ratio</th>\n",
       "      <th>duration_ms</th>\n",
       "    </tr>\n",
       "  </thead>\n",
       "  <tbody>\n",
       "    <tr>\n",
       "      <th>0</th>\n",
       "      <td>0.699</td>\n",
       "      <td>0.519</td>\n",
       "      <td>-6.422</td>\n",
       "      <td>0.0290</td>\n",
       "      <td>0.689000</td>\n",
       "      <td>0.000471</td>\n",
       "      <td>0.9350</td>\n",
       "      <td>0.676</td>\n",
       "      <td>102.463</td>\n",
       "      <td>8.0</td>\n",
       "      <td>183027</td>\n",
       "    </tr>\n",
       "    <tr>\n",
       "      <th>1</th>\n",
       "      <td>0.458</td>\n",
       "      <td>0.570</td>\n",
       "      <td>-9.159</td>\n",
       "      <td>0.0495</td>\n",
       "      <td>0.000055</td>\n",
       "      <td>0.000768</td>\n",
       "      <td>0.0988</td>\n",
       "      <td>0.203</td>\n",
       "      <td>146.609</td>\n",
       "      <td>0.0</td>\n",
       "      <td>218907</td>\n",
       "    </tr>\n",
       "    <tr>\n",
       "      <th>2</th>\n",
       "      <td>0.751</td>\n",
       "      <td>0.549</td>\n",
       "      <td>-10.508</td>\n",
       "      <td>0.4290</td>\n",
       "      <td>0.063000</td>\n",
       "      <td>0.000025</td>\n",
       "      <td>0.1060</td>\n",
       "      <td>0.553</td>\n",
       "      <td>92.224</td>\n",
       "      <td>0.0</td>\n",
       "      <td>218933</td>\n",
       "    </tr>\n",
       "    <tr>\n",
       "      <th>3</th>\n",
       "      <td>0.456</td>\n",
       "      <td>0.472</td>\n",
       "      <td>-8.328</td>\n",
       "      <td>0.0325</td>\n",
       "      <td>0.706000</td>\n",
       "      <td>0.000005</td>\n",
       "      <td>0.0833</td>\n",
       "      <td>0.286</td>\n",
       "      <td>147.565</td>\n",
       "      <td>5.0</td>\n",
       "      <td>267640</td>\n",
       "    </tr>\n",
       "    <tr>\n",
       "      <th>4</th>\n",
       "      <td>0.498</td>\n",
       "      <td>0.300</td>\n",
       "      <td>-10.716</td>\n",
       "      <td>0.0352</td>\n",
       "      <td>0.553000</td>\n",
       "      <td>0.000116</td>\n",
       "      <td>0.0963</td>\n",
       "      <td>0.185</td>\n",
       "      <td>100.315</td>\n",
       "      <td>7.0</td>\n",
       "      <td>189560</td>\n",
       "    </tr>\n",
       "    <tr>\n",
       "      <th>...</th>\n",
       "      <td>...</td>\n",
       "      <td>...</td>\n",
       "      <td>...</td>\n",
       "      <td>...</td>\n",
       "      <td>...</td>\n",
       "      <td>...</td>\n",
       "      <td>...</td>\n",
       "      <td>...</td>\n",
       "      <td>...</td>\n",
       "      <td>...</td>\n",
       "      <td>...</td>\n",
       "    </tr>\n",
       "    <tr>\n",
       "      <th>14632</th>\n",
       "      <td>0.893</td>\n",
       "      <td>0.523</td>\n",
       "      <td>-11.157</td>\n",
       "      <td>0.0986</td>\n",
       "      <td>0.003360</td>\n",
       "      <td>0.000500</td>\n",
       "      <td>0.0833</td>\n",
       "      <td>0.949</td>\n",
       "      <td>132.737</td>\n",
       "      <td>1.0</td>\n",
       "      <td>260441</td>\n",
       "    </tr>\n",
       "    <tr>\n",
       "      <th>14633</th>\n",
       "      <td>0.867</td>\n",
       "      <td>0.911</td>\n",
       "      <td>-7.375</td>\n",
       "      <td>0.1150</td>\n",
       "      <td>0.023900</td>\n",
       "      <td>0.000000</td>\n",
       "      <td>0.0491</td>\n",
       "      <td>0.675</td>\n",
       "      <td>124.810</td>\n",
       "      <td>0.0</td>\n",
       "      <td>215040</td>\n",
       "    </tr>\n",
       "    <tr>\n",
       "      <th>14634</th>\n",
       "      <td>0.763</td>\n",
       "      <td>0.505</td>\n",
       "      <td>-13.669</td>\n",
       "      <td>0.0753</td>\n",
       "      <td>0.179000</td>\n",
       "      <td>0.001070</td>\n",
       "      <td>0.0497</td>\n",
       "      <td>0.960</td>\n",
       "      <td>105.632</td>\n",
       "      <td>0.0</td>\n",
       "      <td>383333</td>\n",
       "    </tr>\n",
       "    <tr>\n",
       "      <th>14635</th>\n",
       "      <td>0.834</td>\n",
       "      <td>0.485</td>\n",
       "      <td>-13.040</td>\n",
       "      <td>0.0453</td>\n",
       "      <td>0.047800</td>\n",
       "      <td>0.000051</td>\n",
       "      <td>0.1030</td>\n",
       "      <td>0.929</td>\n",
       "      <td>107.598</td>\n",
       "      <td>11.0</td>\n",
       "      <td>368467</td>\n",
       "    </tr>\n",
       "    <tr>\n",
       "      <th>14636</th>\n",
       "      <td>0.604</td>\n",
       "      <td>0.316</td>\n",
       "      <td>-14.674</td>\n",
       "      <td>0.0302</td>\n",
       "      <td>0.560000</td>\n",
       "      <td>0.000012</td>\n",
       "      <td>0.0905</td>\n",
       "      <td>0.391</td>\n",
       "      <td>129.693</td>\n",
       "      <td>2.0</td>\n",
       "      <td>302973</td>\n",
       "    </tr>\n",
       "  </tbody>\n",
       "</table>\n",
       "<p>14637 rows × 11 columns</p>\n",
       "</div>"
      ],
      "text/plain": [
       "       danceability  energy  loudness  speechiness  acousticness  \\\n",
       "0             0.699   0.519    -6.422       0.0290      0.689000   \n",
       "1             0.458   0.570    -9.159       0.0495      0.000055   \n",
       "2             0.751   0.549   -10.508       0.4290      0.063000   \n",
       "3             0.456   0.472    -8.328       0.0325      0.706000   \n",
       "4             0.498   0.300   -10.716       0.0352      0.553000   \n",
       "...             ...     ...       ...          ...           ...   \n",
       "14632         0.893   0.523   -11.157       0.0986      0.003360   \n",
       "14633         0.867   0.911    -7.375       0.1150      0.023900   \n",
       "14634         0.763   0.505   -13.669       0.0753      0.179000   \n",
       "14635         0.834   0.485   -13.040       0.0453      0.047800   \n",
       "14636         0.604   0.316   -14.674       0.0302      0.560000   \n",
       "\n",
       "       instrumentalness  liveness  valence    tempo  Key_mode_Ratio  \\\n",
       "0              0.000471    0.9350    0.676  102.463             8.0   \n",
       "1              0.000768    0.0988    0.203  146.609             0.0   \n",
       "2              0.000025    0.1060    0.553   92.224             0.0   \n",
       "3              0.000005    0.0833    0.286  147.565             5.0   \n",
       "4              0.000116    0.0963    0.185  100.315             7.0   \n",
       "...                 ...       ...      ...      ...             ...   \n",
       "14632          0.000500    0.0833    0.949  132.737             1.0   \n",
       "14633          0.000000    0.0491    0.675  124.810             0.0   \n",
       "14634          0.001070    0.0497    0.960  105.632             0.0   \n",
       "14635          0.000051    0.1030    0.929  107.598            11.0   \n",
       "14636          0.000012    0.0905    0.391  129.693             2.0   \n",
       "\n",
       "       duration_ms  \n",
       "0           183027  \n",
       "1           218907  \n",
       "2           218933  \n",
       "3           267640  \n",
       "4           189560  \n",
       "...            ...  \n",
       "14632       260441  \n",
       "14633       215040  \n",
       "14634       383333  \n",
       "14635       368467  \n",
       "14636       302973  \n",
       "\n",
       "[14637 rows x 11 columns]"
      ]
     },
     "execution_count": 7,
     "metadata": {},
     "output_type": "execute_result"
    }
   ],
   "source": [
    "\n",
    "x"
   ]
  },
  {
   "cell_type": "code",
   "execution_count": 8,
   "metadata": {},
   "outputs": [
    {
     "data": {
      "text/plain": [
       "0        0\n",
       "1        0\n",
       "2        0\n",
       "3        0\n",
       "4        0\n",
       "        ..\n",
       "14632    1\n",
       "14633    1\n",
       "14634    1\n",
       "14635    1\n",
       "14636    1\n",
       "Name: billboard_hit, Length: 14637, dtype: int64"
      ]
     },
     "execution_count": 8,
     "metadata": {},
     "output_type": "execute_result"
    }
   ],
   "source": [
    "y"
   ]
  },
  {
   "cell_type": "code",
   "execution_count": 9,
   "metadata": {},
   "outputs": [],
   "source": [
    "#Split the dataset into both training and testing sets\n",
    "\n",
    "from sklearn.model_selection import train_test_split\n",
    "\n",
    "x_train, x_test, y_train, y_test = train_test_split(x,y, test_size = 0.25, random_state = 0 )"
   ]
  },
  {
   "cell_type": "code",
   "execution_count": 10,
   "metadata": {},
   "outputs": [
    {
     "name": "stdout",
     "output_type": "stream",
     "text": [
      "              precision    recall  f1-score   support\n",
      "\n",
      "           0       0.71      0.26      0.38      1311\n",
      "           1       0.70      0.94      0.80      2349\n",
      "\n",
      "    accuracy                           0.70      3660\n",
      "   macro avg       0.70      0.60      0.59      3660\n",
      "weighted avg       0.70      0.70      0.65      3660\n",
      "\n"
     ]
    }
   ],
   "source": [
    "# train the model on train set\n",
    "from sklearn.metrics import classification_report, confusion_matrix\n",
    "from sklearn.svm import SVC\n",
    "svc = SVC()\n",
    "model = SVC()\n",
    "model.fit(x_train, y_train)\n",
    "  \n",
    "# print prediction results\n",
    "predictions = model.predict(x_test)\n",
    "print(classification_report(y_test, predictions))"
   ]
  },
  {
   "cell_type": "code",
   "execution_count": 11,
   "metadata": {},
   "outputs": [
    {
     "name": "stderr",
     "output_type": "stream",
     "text": [
      "C:\\Users\\NITESHKUMAR G\\anaconda3\\lib\\site-packages\\sklearn\\svm\\_base.py:976: ConvergenceWarning: Liblinear failed to converge, increase the number of iterations.\n",
      "  warnings.warn(\"Liblinear failed to converge, increase \"\n"
     ]
    },
    {
     "data": {
      "text/plain": [
       "LinearSVC(random_state=42)"
      ]
     },
     "execution_count": 11,
     "metadata": {},
     "output_type": "execute_result"
    }
   ],
   "source": [
    "from sklearn.svm import LinearSVC\n",
    "\n",
    "lin_clf = LinearSVC(random_state=42)\n",
    "lin_clf.fit(x_train, y_train)"
   ]
  },
  {
   "cell_type": "code",
   "execution_count": 12,
   "metadata": {},
   "outputs": [
    {
     "data": {
      "text/plain": [
       "0.3778810239591874"
      ]
     },
     "execution_count": 12,
     "metadata": {},
     "output_type": "execute_result"
    }
   ],
   "source": [
    "from sklearn.metrics import accuracy_score\n",
    "\n",
    "y_pred = lin_clf.predict(x_train)\n",
    "accuracy_score(y_train, y_pred)"
   ]
  },
  {
   "cell_type": "code",
   "execution_count": 13,
   "metadata": {},
   "outputs": [
    {
     "name": "stderr",
     "output_type": "stream",
     "text": [
      "C:\\Users\\NITESHKUMAR G\\anaconda3\\lib\\site-packages\\sklearn\\svm\\_base.py:976: ConvergenceWarning: Liblinear failed to converge, increase the number of iterations.\n",
      "  warnings.warn(\"Liblinear failed to converge, increase \"\n"
     ]
    },
    {
     "data": {
      "text/plain": [
       "LinearSVC(random_state=0)"
      ]
     },
     "execution_count": 13,
     "metadata": {},
     "output_type": "execute_result"
    }
   ],
   "source": [
    "from sklearn.preprocessing import StandardScaler\n",
    "\n",
    "scaler = StandardScaler()\n",
    "x_train_scaled = scaler.fit_transform(x_train.astype(np.float32))\n",
    "x_test_scaled = scaler.transform(x_test.astype(np.float32))\n",
    "lin_clf = LinearSVC(random_state=0)\n",
    "lin_clf.fit(x_train_scaled, y_train)"
   ]
  },
  {
   "cell_type": "code",
   "execution_count": 14,
   "metadata": {},
   "outputs": [
    {
     "data": {
      "text/plain": [
       "0.7680604901156964"
      ]
     },
     "execution_count": 14,
     "metadata": {},
     "output_type": "execute_result"
    }
   ],
   "source": [
    "from sklearn.svm import SVC\n",
    "y_pred = lin_clf.predict(x_train_scaled)\n",
    "accuracy_score(y_train, y_pred)"
   ]
  },
  {
   "cell_type": "code",
   "execution_count": 15,
   "metadata": {},
   "outputs": [
    {
     "data": {
      "text/plain": [
       "SVC()"
      ]
     },
     "execution_count": 15,
     "metadata": {},
     "output_type": "execute_result"
    }
   ],
   "source": [
    "svm_clf = SVC(gamma=\"scale\")\n",
    "svm_clf.fit(x_train_scaled[:10000], y_train[:10000])"
   ]
  },
  {
   "cell_type": "code",
   "execution_count": 16,
   "metadata": {},
   "outputs": [
    {
     "name": "stdout",
     "output_type": "stream",
     "text": [
      "Fitting 3 folds for each of 10 candidates, totalling 30 fits\n",
      "[CV] C=4.919978572372054, gamma=0.06218635184922099 ..................\n",
      "[CV] ... C=4.919978572372054, gamma=0.06218635184922099, total=   0.0s\n",
      "[CV] C=4.919978572372054, gamma=0.06218635184922099 ..................\n",
      "[CV] ... C=4.919978572372054, gamma=0.06218635184922099, total=   0.0s\n",
      "[CV] C=4.919978572372054, gamma=0.06218635184922099 ..................\n",
      "[CV] ... C=4.919978572372054, gamma=0.06218635184922099, total=   0.0s\n",
      "[CV] C=3.5567746688275275, gamma=0.007544985467856337 ................\n",
      "[CV] . C=3.5567746688275275, gamma=0.007544985467856337, total=   0.0s\n",
      "[CV] C=3.5567746688275275, gamma=0.007544985467856337 ................\n",
      "[CV] . C=3.5567746688275275, gamma=0.007544985467856337, total=   0.0s\n",
      "[CV] C=3.5567746688275275, gamma=0.007544985467856337 ................\n",
      "[CV] . C=3.5567746688275275, gamma=0.007544985467856337, total=   0.0s\n",
      "[CV] C=2.851056389855741, gamma=0.06392864752745854 ..................\n",
      "[CV] ... C=2.851056389855741, gamma=0.06392864752745854, total=   0.0s\n",
      "[CV] C=2.851056389855741, gamma=0.06392864752745854 ..................\n",
      "[CV] ... C=2.851056389855741, gamma=0.06392864752745854, total=   0.0s\n",
      "[CV] C=2.851056389855741, gamma=0.06392864752745854 ..................\n",
      "[CV] ... C=2.851056389855741, gamma=0.06392864752745854, total=   0.0s\n",
      "[CV] C=4.298077764810415, gamma=0.015197110088282721 .................\n",
      "[CV] .. C=4.298077764810415, gamma=0.015197110088282721, total=   0.0s\n",
      "[CV] C=4.298077764810415, gamma=0.015197110088282721 .................\n",
      "[CV] .. C=4.298077764810415, gamma=0.015197110088282721, total=   0.0s\n",
      "[CV] C=4.298077764810415, gamma=0.015197110088282721 .................\n",
      "[CV] .. C=4.298077764810415, gamma=0.015197110088282721, total=   0.0s\n",
      "[CV] C=8.890421004168257, gamma=0.013534337099435237 .................\n",
      "[CV] .. C=8.890421004168257, gamma=0.013534337099435237, total=   0.0s\n",
      "[CV] C=8.890421004168257, gamma=0.013534337099435237 .................\n"
     ]
    },
    {
     "name": "stderr",
     "output_type": "stream",
     "text": [
      "[Parallel(n_jobs=1)]: Using backend SequentialBackend with 1 concurrent workers.\n",
      "[Parallel(n_jobs=1)]: Done   1 out of   1 | elapsed:    0.0s remaining:    0.0s\n"
     ]
    },
    {
     "name": "stdout",
     "output_type": "stream",
     "text": [
      "[CV] .. C=8.890421004168257, gamma=0.013534337099435237, total=   0.0s\n",
      "[CV] C=8.890421004168257, gamma=0.013534337099435237 .................\n",
      "[CV] .. C=8.890421004168257, gamma=0.013534337099435237, total=   0.0s\n",
      "[CV] C=9.333721579260054, gamma=0.0020770310370195185 ................\n",
      "[CV] . C=9.333721579260054, gamma=0.0020770310370195185, total=   0.0s\n",
      "[CV] C=9.333721579260054, gamma=0.0020770310370195185 ................\n",
      "[CV] . C=9.333721579260054, gamma=0.0020770310370195185, total=   0.0s\n",
      "[CV] C=9.333721579260054, gamma=0.0020770310370195185 ................\n",
      "[CV] . C=9.333721579260054, gamma=0.0020770310370195185, total=   0.0s\n",
      "[CV] C=5.716853679231141, gamma=0.03360707949773545 ..................\n",
      "[CV] ... C=5.716853679231141, gamma=0.03360707949773545, total=   0.0s\n",
      "[CV] C=5.716853679231141, gamma=0.03360707949773545 ..................\n",
      "[CV] ... C=5.716853679231141, gamma=0.03360707949773545, total=   0.0s\n",
      "[CV] C=5.716853679231141, gamma=0.03360707949773545 ..................\n",
      "[CV] ... C=5.716853679231141, gamma=0.03360707949773545, total=   0.0s\n",
      "[CV] C=4.003521075820133, gamma=0.07912875030157923 ..................\n",
      "[CV] ... C=4.003521075820133, gamma=0.07912875030157923, total=   0.0s\n",
      "[CV] C=4.003521075820133, gamma=0.07912875030157923 ..................\n",
      "[CV] ... C=4.003521075820133, gamma=0.07912875030157923, total=   0.0s\n",
      "[CV] C=4.003521075820133, gamma=0.07912875030157923 ..................\n",
      "[CV] ... C=4.003521075820133, gamma=0.07912875030157923, total=   0.0s\n",
      "[CV] C=9.06103657948867, gamma=0.004141889420647893 ..................\n",
      "[CV] ... C=9.06103657948867, gamma=0.004141889420647893, total=   0.0s\n",
      "[CV] C=9.06103657948867, gamma=0.004141889420647893 ..................\n",
      "[CV] ... C=9.06103657948867, gamma=0.004141889420647893, total=   0.0s\n",
      "[CV] C=9.06103657948867, gamma=0.004141889420647893 ..................\n",
      "[CV] ... C=9.06103657948867, gamma=0.004141889420647893, total=   0.0s\n",
      "[CV] C=10.365527458368556, gamma=0.002344322606214266 ................\n",
      "[CV] . C=10.365527458368556, gamma=0.002344322606214266, total=   0.0s\n",
      "[CV] C=10.365527458368556, gamma=0.002344322606214266 ................\n",
      "[CV] . C=10.365527458368556, gamma=0.002344322606214266, total=   0.0s\n",
      "[CV] C=10.365527458368556, gamma=0.002344322606214266 ................\n",
      "[CV] . C=10.365527458368556, gamma=0.002344322606214266, total=   0.0s\n"
     ]
    },
    {
     "name": "stderr",
     "output_type": "stream",
     "text": [
      "[Parallel(n_jobs=1)]: Done  30 out of  30 | elapsed:    0.3s finished\n"
     ]
    },
    {
     "data": {
      "text/plain": [
       "RandomizedSearchCV(cv=3, estimator=SVC(),\n",
       "                   param_distributions={'C': <scipy.stats._distn_infrastructure.rv_frozen object at 0x0000020A8483FC40>,\n",
       "                                        'gamma': <scipy.stats._distn_infrastructure.rv_frozen object at 0x0000020A8483F8B0>},\n",
       "                   verbose=2)"
      ]
     },
     "execution_count": 16,
     "metadata": {},
     "output_type": "execute_result"
    }
   ],
   "source": [
    "from sklearn.model_selection import RandomizedSearchCV\n",
    "from scipy.stats import reciprocal, uniform\n",
    "\n",
    "param_distributions = {\"gamma\": reciprocal(0.001, 0.1), \"C\": uniform(1, 10)}\n",
    "rnd_search_cv = RandomizedSearchCV(svm_clf, param_distributions, n_iter=10, verbose=2, cv=3)\n",
    "rnd_search_cv.fit(x_train_scaled[:1000], y_train[:1000])\n"
   ]
  },
  {
   "cell_type": "code",
   "execution_count": 17,
   "metadata": {},
   "outputs": [
    {
     "data": {
      "text/plain": [
       "SVC(C=4.919978572372054, gamma=0.06218635184922099)"
      ]
     },
     "execution_count": 17,
     "metadata": {},
     "output_type": "execute_result"
    }
   ],
   "source": [
    "rnd_search_cv.best_estimator_"
   ]
  },
  {
   "cell_type": "code",
   "execution_count": 18,
   "metadata": {},
   "outputs": [
    {
     "data": {
      "text/plain": [
       "0.7960445475415535"
      ]
     },
     "execution_count": 18,
     "metadata": {},
     "output_type": "execute_result"
    }
   ],
   "source": [
    "rnd_search_cv.best_score_"
   ]
  },
  {
   "cell_type": "code",
   "execution_count": 19,
   "metadata": {},
   "outputs": [
    {
     "data": {
      "text/plain": [
       "SVC(C=4.919978572372054, gamma=0.06218635184922099)"
      ]
     },
     "execution_count": 19,
     "metadata": {},
     "output_type": "execute_result"
    }
   ],
   "source": [
    "rnd_search_cv.best_estimator_.fit(x_train_scaled, y_train)"
   ]
  },
  {
   "cell_type": "code",
   "execution_count": 20,
   "metadata": {},
   "outputs": [
    {
     "data": {
      "text/plain": [
       "0.4315176993179229"
      ]
     },
     "execution_count": 20,
     "metadata": {},
     "output_type": "execute_result"
    }
   ],
   "source": [
    "from sklearn.metrics import mean_squared_error\n",
    "y_pred = rnd_search_cv.best_estimator_.predict(x_train_scaled)\n",
    "mse = mean_squared_error(y_train, y_pred)\n",
    "np.sqrt(mse)"
   ]
  },
  {
   "cell_type": "code",
   "execution_count": 21,
   "metadata": {},
   "outputs": [
    {
     "data": {
      "text/plain": [
       "0.45086437930334455"
      ]
     },
     "execution_count": 21,
     "metadata": {},
     "output_type": "execute_result"
    }
   ],
   "source": [
    "y_pred = rnd_search_cv.best_estimator_.predict(x_test_scaled)\n",
    "mse = mean_squared_error(y_test, y_pred)\n",
    "np.sqrt(mse)"
   ]
  },
  {
   "cell_type": "code",
   "execution_count": 22,
   "metadata": {},
   "outputs": [
    {
     "data": {
      "text/plain": [
       "0.7967213114754098"
      ]
     },
     "execution_count": 22,
     "metadata": {},
     "output_type": "execute_result"
    }
   ],
   "source": [
    "y_pred = rnd_search_cv.best_estimator_.predict(x_test_scaled)\n",
    "accuracy_score(y_test, y_pred)"
   ]
  },
  {
   "cell_type": "code",
   "execution_count": 23,
   "metadata": {},
   "outputs": [
    {
     "data": {
      "text/plain": [
       "0.8080532021499499"
      ]
     },
     "execution_count": 23,
     "metadata": {},
     "output_type": "execute_result"
    }
   ],
   "source": [
    "y_pred = svm_clf.predict(x_train_scaled)\n",
    "accuracy_score(y_train, y_pred)"
   ]
  },
  {
   "cell_type": "code",
   "execution_count": 24,
   "metadata": {},
   "outputs": [
    {
     "name": "stdout",
     "output_type": "stream",
     "text": [
      "Training Accuracy 81.0 %\n"
     ]
    }
   ],
   "source": [
    "svm_clf = SVC(gamma=\"scale\",C=1)\n",
    "svm_clf.fit(x_train_scaled, y_train)\n",
    "y_pred = svm_clf.predict(x_train_scaled)\n",
    "print(\"Training Accuracy\",round(accuracy_score(y_train, y_pred),2)*100,\"%\")"
   ]
  },
  {
   "cell_type": "code",
   "execution_count": 25,
   "metadata": {},
   "outputs": [
    {
     "data": {
      "text/plain": [
       "array([[2456, 1692],\n",
       "       [ 420, 6409]], dtype=int64)"
      ]
     },
     "execution_count": 25,
     "metadata": {},
     "output_type": "execute_result"
    }
   ],
   "source": [
    "from sklearn.metrics import confusion_matrix\n",
    "confusion_matrix(y_train,y_pred)\n"
   ]
  },
  {
   "cell_type": "code",
   "execution_count": 33,
   "metadata": {},
   "outputs": [
    {
     "name": "stdout",
     "output_type": "stream",
     "text": [
      "Training Accuracy 80.0 %\n"
     ]
    }
   ],
   "source": [
    "svm_clf = SVC(gamma=\"scale\",C=1)\n",
    "svm_clf.fit(x_train_scaled, y_train)\n",
    "y_pred = svm_clf.predict(x_test_scaled)\n",
    "print(\"Training Accuracy\",round(accuracy_score(y_test, y_pred),2)*100,\"%\")"
   ]
  },
  {
   "cell_type": "code",
   "execution_count": 34,
   "metadata": {},
   "outputs": [
    {
     "data": {
      "text/plain": [
       "array([[ 743,  568],\n",
       "       [ 165, 2184]], dtype=int64)"
      ]
     },
     "execution_count": 34,
     "metadata": {},
     "output_type": "execute_result"
    }
   ],
   "source": [
    "from sklearn.metrics import confusion_matrix\n",
    "confusion_matrix(y_test,y_pred)\n"
   ]
  },
  {
   "cell_type": "code",
   "execution_count": 37,
   "metadata": {},
   "outputs": [],
   "source": [
    "from sklearn.ensemble import RandomForestRegressor\n",
    "from sklearn.model_selection import GridSearchCV\n",
    "from sklearn.model_selection import train_test_split\n",
    "\n",
    "x_train,x_test,y_train, y_test = train_test_split(x,y,test_size=0.25,random_state=27)"
   ]
  },
  {
   "cell_type": "code",
   "execution_count": 38,
   "metadata": {},
   "outputs": [
    {
     "name": "stdout",
     "output_type": "stream",
     "text": [
      "num of  train sample in train set: (10977, 11)\n",
      "Number of samples in validation set: (3660,)\n"
     ]
    }
   ],
   "source": [
    "print(\"num of  train sample in train set:\",x_train.shape)\n",
    "print(\"Number of samples in validation set:\",y_test.shape)"
   ]
  },
  {
   "cell_type": "code",
   "execution_count": 59,
   "metadata": {
    "scrolled": true
   },
   "outputs": [
    {
     "name": "stdout",
     "output_type": "stream",
     "text": [
      "Important features\n",
      "____________________________________________________________\n",
      "91.03\n"
     ]
    },
    {
     "data": {
      "image/png": "[encoded data removed]",
      "text/plain": [
       "<Figure size 432x288 with 1 Axes>"
      ]
     },
     "metadata": {
      "needs_background": "light"
     },
     "output_type": "display_data"
    }
   ],
   "source": [
    "from sklearn.ensemble import RandomForestRegressor\n",
    "random_forest = RandomForestRegressor()\n",
    "\n",
    "random_forest.fit(x_train, y_train)\n",
    "Y_pred_rf = random_forest.predict(x_test)\n",
    "random_forest.score(x_train,y_train)\n",
    "acc_random_forest = round(random_forest.score(x_train,y_train) * 100, 2)\n",
    "\n",
    "print(\"Important features\")\n",
    "pd.Series(random_forest.feature_importances_,x_train.columns).sort_values(ascending=True).plot.barh(width=0.8)\n",
    "print('__'*30)\n",
    "print(acc_random_forest)\n"
   ]
  },
  {
   "cell_type": "code",
   "execution_count": 66,
   "metadata": {},
   "outputs": [],
   "source": [
    "import pickle\n",
    "# now you can save it to a file\n",
    "file = 'billboard.pkl'\n",
    "with open(file, 'wb') as f:\n",
    "    pickle.dump(random_forest, f)"
   ]
  },
  {
   "cell_type": "code",
   "execution_count": 67,
   "metadata": {},
   "outputs": [],
   "source": [
    "with open(file, 'rb') as f:\n",
    "    k = pickle.load(f)"
   ]
  },
  {
   "cell_type": "code",
   "execution_count": 68,
   "metadata": {},
   "outputs": [],
   "source": [
    "test_data = [0.000054,0.002344,-8.897,0.3455,566667,0.6756,0.765,0.2755,0.995,0.708,158648]"
   ]
  },
  {
   "cell_type": "code",
   "execution_count": 69,
   "metadata": {},
   "outputs": [],
   "source": [
    "predictions  = k.predict([test_data])"
   ]
  },
  {
   "cell_type": "code",
   "execution_count": 70,
   "metadata": {},
   "outputs": [
    {
     "data": {
      "text/plain": [
       "array([0.57])"
      ]
     },
     "execution_count": 70,
     "metadata": {},
     "output_type": "execute_result"
    }
   ],
   "source": [
    "predictions"
   ]
  },
  {
   "cell_type": "code",
   "execution_count": null,
   "metadata": {},
   "outputs": [],
   "source": []
  }
 ],
 "metadata": {
  "kernelspec": {
   "display_name": "Python 3",
   "language": "python",
   "name": "python3"
  },
  "language_info": {
   "codemirror_mode": {
    "name": "ipython",
    "version": 3
   },
   "file_extension": ".py",
   "mimetype": "text/x-python",
   "name": "python",
   "nbconvert_exporter": "python",
   "pygments_lexer": "ipython3",
   "version": "3.8.5"
  }
 },
 "nbformat": 4,
 "nbformat_minor": 4
}
